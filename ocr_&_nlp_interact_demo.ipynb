{
  "nbformat": 4,
  "nbformat_minor": 0,
  "metadata": {
    "colab": {
      "name": "ocr_&_nlp_interact-demo",
      "provenance": [],
      "collapsed_sections": []
    },
    "kernelspec": {
      "name": "python3",
      "display_name": "Python 3"
    },
    "language_info": {
      "name": "python"
    }
  },
  "cells": [
    {
      "cell_type": "code",
      "execution_count": 79,
      "metadata": {
        "colab": {
          "base_uri": "https://localhost:8080/"
        },
        "id": "7Gfi2W18MkrQ",
        "outputId": "d61ebcc4-c926-48e9-afa1-6e4b8803ed92"
      },
      "outputs": [
        {
          "output_type": "stream",
          "name": "stdout",
          "text": [
            ">>>Fetching the code for implementation\n",
            "fatal: destination path 'ocr-nlp-interact-III-demo' already exists and is not an empty directory.\n",
            ">>>Installing the tool Google Cloud Vision\n",
            "Requirement already satisfied: google-cloud-vision in /usr/local/lib/python3.7/dist-packages (2.6.3)\n",
            "Requirement already satisfied: proto-plus>=1.15.0 in /usr/local/lib/python3.7/dist-packages (from google-cloud-vision) (1.19.9)\n",
            "Requirement already satisfied: google-api-core[grpc]<3.0.0dev,>=1.28.0 in /usr/local/lib/python3.7/dist-packages (from google-cloud-vision) (2.4.0)\n",
            "Requirement already satisfied: setuptools>=40.3.0 in /usr/local/lib/python3.7/dist-packages (from google-api-core[grpc]<3.0.0dev,>=1.28.0->google-cloud-vision) (57.4.0)\n",
            "Requirement already satisfied: requests<3.0.0dev,>=2.18.0 in /usr/local/lib/python3.7/dist-packages (from google-api-core[grpc]<3.0.0dev,>=1.28.0->google-cloud-vision) (2.23.0)\n",
            "Requirement already satisfied: google-auth<3.0dev,>=1.25.0 in /usr/local/lib/python3.7/dist-packages (from google-api-core[grpc]<3.0.0dev,>=1.28.0->google-cloud-vision) (1.35.0)\n",
            "Requirement already satisfied: protobuf>=3.12.0 in /usr/local/lib/python3.7/dist-packages (from google-api-core[grpc]<3.0.0dev,>=1.28.0->google-cloud-vision) (3.19.4)\n",
            "Requirement already satisfied: googleapis-common-protos<2.0dev,>=1.52.0 in /usr/local/lib/python3.7/dist-packages (from google-api-core[grpc]<3.0.0dev,>=1.28.0->google-cloud-vision) (1.54.0)\n",
            "Requirement already satisfied: grpcio<2.0dev,>=1.33.2 in /usr/local/lib/python3.7/dist-packages (from google-api-core[grpc]<3.0.0dev,>=1.28.0->google-cloud-vision) (1.43.0)\n",
            "Requirement already satisfied: grpcio-status<2.0dev,>=1.33.2 in /usr/local/lib/python3.7/dist-packages (from google-api-core[grpc]<3.0.0dev,>=1.28.0->google-cloud-vision) (1.43.0)\n",
            "Requirement already satisfied: six>=1.9.0 in /usr/local/lib/python3.7/dist-packages (from google-auth<3.0dev,>=1.25.0->google-api-core[grpc]<3.0.0dev,>=1.28.0->google-cloud-vision) (1.15.0)\n",
            "Requirement already satisfied: rsa<5,>=3.1.4 in /usr/local/lib/python3.7/dist-packages (from google-auth<3.0dev,>=1.25.0->google-api-core[grpc]<3.0.0dev,>=1.28.0->google-cloud-vision) (4.8)\n",
            "Requirement already satisfied: pyasn1-modules>=0.2.1 in /usr/local/lib/python3.7/dist-packages (from google-auth<3.0dev,>=1.25.0->google-api-core[grpc]<3.0.0dev,>=1.28.0->google-cloud-vision) (0.2.8)\n",
            "Requirement already satisfied: cachetools<5.0,>=2.0.0 in /usr/local/lib/python3.7/dist-packages (from google-auth<3.0dev,>=1.25.0->google-api-core[grpc]<3.0.0dev,>=1.28.0->google-cloud-vision) (4.2.4)\n",
            "Requirement already satisfied: pyasn1<0.5.0,>=0.4.6 in /usr/local/lib/python3.7/dist-packages (from pyasn1-modules>=0.2.1->google-auth<3.0dev,>=1.25.0->google-api-core[grpc]<3.0.0dev,>=1.28.0->google-cloud-vision) (0.4.8)\n",
            "Requirement already satisfied: certifi>=2017.4.17 in /usr/local/lib/python3.7/dist-packages (from requests<3.0.0dev,>=2.18.0->google-api-core[grpc]<3.0.0dev,>=1.28.0->google-cloud-vision) (2021.10.8)\n",
            "Requirement already satisfied: idna<3,>=2.5 in /usr/local/lib/python3.7/dist-packages (from requests<3.0.0dev,>=2.18.0->google-api-core[grpc]<3.0.0dev,>=1.28.0->google-cloud-vision) (2.10)\n",
            "Requirement already satisfied: chardet<4,>=3.0.2 in /usr/local/lib/python3.7/dist-packages (from requests<3.0.0dev,>=2.18.0->google-api-core[grpc]<3.0.0dev,>=1.28.0->google-cloud-vision) (3.0.4)\n",
            "Requirement already satisfied: urllib3!=1.25.0,!=1.25.1,<1.26,>=1.21.1 in /usr/local/lib/python3.7/dist-packages (from requests<3.0.0dev,>=2.18.0->google-api-core[grpc]<3.0.0dev,>=1.28.0->google-cloud-vision) (1.24.3)\n",
            ">>>Installing the tool OpenAI\n",
            "Requirement already satisfied: openai in /usr/local/lib/python3.7/dist-packages (0.13.0)\n",
            "Requirement already satisfied: pandas>=1.2.3 in /usr/local/lib/python3.7/dist-packages (from openai) (1.3.5)\n",
            "Requirement already satisfied: tqdm in /usr/local/lib/python3.7/dist-packages (from openai) (4.62.3)\n",
            "Requirement already satisfied: pandas-stubs>=1.1.0.11 in /usr/local/lib/python3.7/dist-packages (from openai) (1.2.0.47)\n",
            "Requirement already satisfied: requests>=2.20 in /usr/local/lib/python3.7/dist-packages (from openai) (2.23.0)\n",
            "Requirement already satisfied: openpyxl>=3.0.7 in /usr/local/lib/python3.7/dist-packages (from openai) (3.0.9)\n",
            "Requirement already satisfied: et-xmlfile in /usr/local/lib/python3.7/dist-packages (from openpyxl>=3.0.7->openai) (1.1.0)\n",
            "Requirement already satisfied: python-dateutil>=2.7.3 in /usr/local/lib/python3.7/dist-packages (from pandas>=1.2.3->openai) (2.8.2)\n",
            "Requirement already satisfied: pytz>=2017.3 in /usr/local/lib/python3.7/dist-packages (from pandas>=1.2.3->openai) (2018.9)\n",
            "Requirement already satisfied: numpy>=1.17.3 in /usr/local/lib/python3.7/dist-packages (from pandas>=1.2.3->openai) (1.19.5)\n",
            "Requirement already satisfied: typing-extensions>=3.7.4.3 in /usr/local/lib/python3.7/dist-packages (from pandas-stubs>=1.1.0.11->openai) (3.10.0.2)\n",
            "Requirement already satisfied: six>=1.5 in /usr/local/lib/python3.7/dist-packages (from python-dateutil>=2.7.3->pandas>=1.2.3->openai) (1.15.0)\n",
            "Requirement already satisfied: urllib3!=1.25.0,!=1.25.1,<1.26,>=1.21.1 in /usr/local/lib/python3.7/dist-packages (from requests>=2.20->openai) (1.24.3)\n",
            "Requirement already satisfied: idna<3,>=2.5 in /usr/local/lib/python3.7/dist-packages (from requests>=2.20->openai) (2.10)\n",
            "Requirement already satisfied: chardet<4,>=3.0.2 in /usr/local/lib/python3.7/dist-packages (from requests>=2.20->openai) (3.0.4)\n",
            "Requirement already satisfied: certifi>=2017.4.17 in /usr/local/lib/python3.7/dist-packages (from requests>=2.20->openai) (2021.10.8)\n",
            ">>>Remember to restart the runtime\n"
          ]
        }
      ],
      "source": [
        "# Run to fetch code and install tools\n",
        "\n",
        "print(\">>>Fetching the code for implementation\")\n",
        "!git clone https://github.com/MSkogsmo/ocr-nlp-interact-III-demo.git\n",
        "print(\">>>Installing the tool Google Cloud Vision\")\n",
        "!pip install --upgrade google-cloud-vision\n",
        "print(\">>>Installing the tool OpenAI\")\n",
        "!pip install openai\n",
        "print(\">>>Remember to restart the runtime\")"
      ]
    },
    {
      "cell_type": "code",
      "source": [
        "# Import tools\n",
        "import os, io\n",
        "from google.cloud import vision_v1 as vision\n",
        "import openai\n",
        "import sys\n",
        "from google.cloud.vision_v1 import types\n",
        "import pandas as pd"
      ],
      "metadata": {
        "id": "beN6DKARNSUW"
      },
      "execution_count": 91,
      "outputs": []
    },
    {
      "cell_type": "code",
      "source": [
        "# Create key files for Google Vision API and OpenAI API, created at their service portals\n",
        "!python /content/ocr-nlp-interact-III-demo/keys_to_file.py\n",
        "\n",
        "# Run the functions needed for this demo\n",
        "!python /content/ocr-nlp-interact-III-demo/demo_functions.py"
      ],
      "metadata": {
        "id": "RLIKP621M1rm"
      },
      "execution_count": 97,
      "outputs": []
    },
    {
      "cell_type": "code",
      "source": [
        "# Provide the API with the Google Cloud Vision API\n",
        "os.environ['GOOGLE_APPLICATION_CREDENTIALS'] = r'Keys/key_vision.json'\n",
        "\n",
        "# Initialize a Google Cloud Vision client\n",
        "client = vision.ImageAnnotatorClient()\n",
        "\n",
        "# Define image file name and path\n",
        "#FILE_NAME = 'Sample-handwritten-text-from-CVL-Database.png'\n",
        "FILE_NAME = '12102020.1-934x1024.jpg'\n",
        "FOLDER_PATH = r'/content/'\n",
        "\n",
        "#Detect text in image file, function exists in demo_functions.py\n",
        "response = detect_text(os.path.join(FOLDER_PATH, FILE_NAME))\n",
        "\n",
        "#Specify text file file location\n",
        "path_file_and_name = '/content/ocr-nlp-interact-III-demo/detected_text.txt'\n",
        "\n",
        "#Write and open response to text file, required by GPT-3\n",
        "text = write_and_read_text_file(path_file_and_name, response)"
      ],
      "metadata": {
        "id": "j-Uv0LkVZdKS"
      },
      "execution_count": 100,
      "outputs": []
    },
    {
      "cell_type": "code",
      "source": [
        "#Open the file containing text that is about to be summarized\n",
        "response = openai.Completion.create(\n",
        "  engine = \"davinci-instruct-beta\",\n",
        "  prompt = text,\n",
        "  temperature = 0.3,\n",
        "  max_tokens = 400,\n",
        "  top_p = 1.0,\n",
        "  frequency_penalty = 0.0,\n",
        "  presence_penalty = 0.0,\n",
        "  stop=[\"###\"]\n",
        "  )"
      ],
      "metadata": {
        "id": "gOLyNjVHfp3s"
      },
      "execution_count": 104,
      "outputs": []
    },
    {
      "cell_type": "code",
      "source": [
        "print(\"Original text:\")\n",
        "print(text)\n",
        "print(\"\")\n",
        "print(\"Summarized text:\")\n",
        "print(response.choices[0][\"text\"])"
      ],
      "metadata": {
        "colab": {
          "base_uri": "https://localhost:8080/"
        },
        "id": "yFRFNGSFh9zx",
        "outputId": "8435b096-3bd3-4eed-cd01-875ce4f7202b"
      },
      "execution_count": 105,
      "outputs": [
        {
          "output_type": "stream",
          "name": "stdout",
          "text": [
            "Original text:\n",
            "This is my story\n",
            "1\n",
            "7\n",
            "like to think that im\n",
            "aclventerous. I have alot of flaws.\n",
            "I've had a rough life really\n",
            ".\n",
            "My parents werent always\n",
            "the best, my father wasn't\n",
            "in\n",
            "my\n",
            "life until\n",
            "nine. my mothers been in my\n",
            "life, but hasnt been really a\n",
            "role model to me. At the end\n",
            "of the day im most grateful\n",
            "for the people that helped me\n",
            "along\n",
            "my\n",
            "little\n",
            "sisters. Being\n",
            "at Elmcrest has\n",
            "shown\n",
            "how and where to\n",
            "explore new things.\n",
            "thankful for that.\n",
            "the\n",
            "way and\n",
            "me\n",
            "im very\n",
            "\n",
            "\n",
            "Summarized text:\n",
            "grateful\n",
            "for the\n",
            "opportunity.\n",
            "\n",
            "I\n",
            "\n",
            "think\n",
            "\n",
            "that\n",
            "\n",
            "i\n",
            "\n",
            "am\n",
            "\n",
            "a\n",
            "\n",
            "very\n",
            "\n",
            "adventurous\n",
            "person.\n",
            "I\n",
            "have\n",
            "a\n",
            "lot\n",
            "of\n",
            "flaws.\n",
            "I\n",
            "have\n",
            "had\n",
            "a\n",
            "rough\n",
            "life\n",
            "really.\n",
            "My\n",
            "parents\n",
            "werent\n",
            "always\n",
            "the\n",
            "best,\n",
            "my\n",
            "father\n",
            "wasnt\n",
            "in\n",
            "my\n",
            "life\n",
            "until\n",
            "nine.\n",
            "my\n",
            "mothers\n",
            "been\n",
            "in\n",
            "my\n",
            "life,\n",
            "but\n",
            "hasnt\n",
            "been\n",
            "really\n",
            "a\n",
            "role\n",
            "model\n",
            "to me.\n",
            "At\n",
            "the\n",
            "end\n",
            "of\n",
            "the\n",
            "day\n",
            "im\n",
            "most\n",
            "grateful\n",
            "for\n",
            "the\n",
            "people\n",
            "that\n",
            "helped\n",
            "me\n",
            "along\n",
            "my\n",
            "little\n",
            "sisters.\n",
            "Being\n",
            "at\n",
            "Elmcrest\n",
            "has\n",
            "shown\n",
            "me\n",
            "how\n",
            "and\n",
            "where\n",
            "to\n",
            "explore\n",
            "new\n",
            "things.\n",
            "thankful\n",
            "for\n",
            "that.\n",
            "the\n",
            "way\n",
            "and\n",
            "me\n",
            "im\n",
            "very\n",
            "grateful\n",
            "for\n",
            "the\n",
            "opportunity.\n"
          ]
        }
      ]
    },
    {
      "cell_type": "code",
      "source": [
        "response = openai.Completion.create(\n",
        "      engine=\"content-filter-alpha\",\n",
        "      prompt = \"<|endoftext|>\"+text+\"\\n--\\nLabel:\",\n",
        "      temperature=0,\n",
        "      max_tokens=1,\n",
        "      top_p=1,\n",
        "      frequency_penalty=0,\n",
        "      presence_penalty=0,\n",
        "      logprobs=10\n",
        "    )\n",
        "print(\"Original text:\")\n",
        "print(text)\n",
        "print(\"\")\n",
        "print(\"Summarized text:\")\n",
        "print(response.choices[0][\"text\"])"
      ],
      "metadata": {
        "colab": {
          "base_uri": "https://localhost:8080/"
        },
        "id": "4LJRXVkx5VJ6",
        "outputId": "965c8aec-080b-4aae-bd35-a295b6acf6e5"
      },
      "execution_count": 77,
      "outputs": [
        {
          "output_type": "stream",
          "name": "stdout",
          "text": [
            "Original text:\n",
            "This is my story\n",
            "1\n",
            "7\n",
            "like to think that im\n",
            "aclventerous. I have alot of flaws.\n",
            "I've had a rough life really\n",
            ".\n",
            "My parents werent always\n",
            "the best, my father wasn't\n",
            "in\n",
            "my\n",
            "life until\n",
            "nine. my mothers been in my\n",
            "life, but hasnt been really a\n",
            "role model to me. At the end\n",
            "of the day im most grateful\n",
            "for the people that helped me\n",
            "along\n",
            "my\n",
            "little\n",
            "sisters. Being\n",
            "at Elmcrest has\n",
            "shown\n",
            "how and where to\n",
            "explore new things.\n",
            "thankful for that.\n",
            "the\n",
            "way and\n",
            "me\n",
            "im very\n",
            "\n",
            "\n",
            "Summarized text:\n",
            "0\n"
          ]
        }
      ]
    },
    {
      "cell_type": "code",
      "source": [
        ""
      ],
      "metadata": {
        "id": "y1BuTZ5Hpq98"
      },
      "execution_count": null,
      "outputs": []
    }
  ]
}