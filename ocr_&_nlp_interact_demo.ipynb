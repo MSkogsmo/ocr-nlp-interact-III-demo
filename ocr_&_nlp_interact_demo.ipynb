{
  "nbformat": 4,
  "nbformat_minor": 0,
  "metadata": {
    "colab": {
      "name": "ocr_&_nlp_interact-demo",
      "provenance": [],
      "collapsed_sections": []
    },
    "kernelspec": {
      "name": "python3",
      "display_name": "Python 3"
    },
    "language_info": {
      "name": "python"
    }
  },
  "cells": [
    {
      "cell_type": "markdown",
      "source": [
        "# Digitizing analogue text and summarization\n",
        "### Using Optical Character Recognition (OCR)\n",
        "### and Natural Language Processing (NLP)\n",
        "#### With State-of-the-Art tools\n",
        "### Google Vision and OpenAI GTP-3\n",
        "* The OCR works with both handwritten and printed digital text\n",
        "* There is a need to choose both OCR and NLP parameters for optimal output, given the type of text\n",
        "* There is a need to have both Google Vision and OpenAI Application Program Interface (API) keys, which can be created on their websites by creating an account (free to some extent).\n",
        "  * https://cloud.google.com/vision (2022-02-04)\n",
        "  * https://beta.openai.com/ (2022-02-04)"
      ],
      "metadata": {
        "id": "sZ3xips3oZE9"
      }
    },
    {
      "cell_type": "markdown",
      "source": [
        "### 0) If you would like the original code:\n",
        "\n",
        "Thanks to Maja Linderholm, out Master's Thesis Student working for INTERACT III; WP6, it can be accessed by running the cell below"
      ],
      "metadata": {
        "id": "KzZlAUQ3-eEY"
      }
    },
    {
      "cell_type": "code",
      "source": [
        "print(\">>>Fetching the code for implementation\")\n",
        "!git clone https://github.com/MSkogsmo/ocr-nlp-interact-III-demo.git"
      ],
      "metadata": {
        "id": "svHT9qDl-0Wf"
      },
      "execution_count": null,
      "outputs": []
    },
    {
      "cell_type": "markdown",
      "source": [
        "### 1) Fetch and install tools, run the so called \"cells\" below py pressing play or [ctrl+enter]"
      ],
      "metadata": {
        "id": "NXMVdYyj6eEj"
      }
    },
    {
      "cell_type": "code",
      "execution_count": 1,
      "metadata": {
        "colab": {
          "base_uri": "https://localhost:8080/",
          "height": 1000
        },
        "id": "7Gfi2W18MkrQ",
        "outputId": "5c32e9de-32f9-4e20-bc33-3dea5efbb595"
      },
      "outputs": [
        {
          "output_type": "stream",
          "name": "stdout",
          "text": [
            ">>>Fetching the code for implementation\n",
            "Cloning into 'ocr-nlp-interact-III-demo'...\n",
            "remote: Enumerating objects: 53, done.\u001b[K\n",
            "remote: Counting objects: 100% (53/53), done.\u001b[K\n",
            "remote: Compressing objects: 100% (44/44), done.\u001b[K\n",
            "remote: Total 53 (delta 10), reused 50 (delta 7), pack-reused 0\u001b[K\n",
            "Unpacking objects: 100% (53/53), done.\n",
            ">>>Installing the tool Google Cloud Vision\n",
            "Collecting google-cloud-vision\n",
            "  Downloading google_cloud_vision-2.6.3-py2.py3-none-any.whl (370 kB)\n",
            "\u001b[K     |████████████████████████████████| 370 kB 6.9 MB/s \n",
            "\u001b[?25hCollecting proto-plus>=1.15.0\n",
            "  Downloading proto_plus-1.19.9-py3-none-any.whl (45 kB)\n",
            "\u001b[K     |████████████████████████████████| 45 kB 3.3 MB/s \n",
            "\u001b[?25hCollecting google-api-core[grpc]<3.0.0dev,>=1.28.0\n",
            "  Downloading google_api_core-2.5.0-py2.py3-none-any.whl (111 kB)\n",
            "\u001b[K     |████████████████████████████████| 111 kB 55.0 MB/s \n",
            "\u001b[?25hRequirement already satisfied: requests<3.0.0dev,>=2.18.0 in /usr/local/lib/python3.7/dist-packages (from google-api-core[grpc]<3.0.0dev,>=1.28.0->google-cloud-vision) (2.23.0)\n",
            "Requirement already satisfied: google-auth<3.0dev,>=1.25.0 in /usr/local/lib/python3.7/dist-packages (from google-api-core[grpc]<3.0.0dev,>=1.28.0->google-cloud-vision) (1.35.0)\n",
            "Requirement already satisfied: protobuf>=3.12.0 in /usr/local/lib/python3.7/dist-packages (from google-api-core[grpc]<3.0.0dev,>=1.28.0->google-cloud-vision) (3.17.3)\n",
            "Requirement already satisfied: googleapis-common-protos<2.0dev,>=1.52.0 in /usr/local/lib/python3.7/dist-packages (from google-api-core[grpc]<3.0.0dev,>=1.28.0->google-cloud-vision) (1.54.0)\n",
            "Collecting grpcio-status<2.0dev,>=1.33.2\n",
            "  Downloading grpcio_status-1.43.0-py3-none-any.whl (10.0 kB)\n",
            "Requirement already satisfied: grpcio<2.0dev,>=1.33.2 in /usr/local/lib/python3.7/dist-packages (from google-api-core[grpc]<3.0.0dev,>=1.28.0->google-cloud-vision) (1.43.0)\n",
            "Requirement already satisfied: rsa<5,>=3.1.4 in /usr/local/lib/python3.7/dist-packages (from google-auth<3.0dev,>=1.25.0->google-api-core[grpc]<3.0.0dev,>=1.28.0->google-cloud-vision) (4.8)\n",
            "Requirement already satisfied: cachetools<5.0,>=2.0.0 in /usr/local/lib/python3.7/dist-packages (from google-auth<3.0dev,>=1.25.0->google-api-core[grpc]<3.0.0dev,>=1.28.0->google-cloud-vision) (4.2.4)\n",
            "Requirement already satisfied: pyasn1-modules>=0.2.1 in /usr/local/lib/python3.7/dist-packages (from google-auth<3.0dev,>=1.25.0->google-api-core[grpc]<3.0.0dev,>=1.28.0->google-cloud-vision) (0.2.8)\n",
            "Requirement already satisfied: setuptools>=40.3.0 in /usr/local/lib/python3.7/dist-packages (from google-auth<3.0dev,>=1.25.0->google-api-core[grpc]<3.0.0dev,>=1.28.0->google-cloud-vision) (57.4.0)\n",
            "Requirement already satisfied: six>=1.9.0 in /usr/local/lib/python3.7/dist-packages (from google-auth<3.0dev,>=1.25.0->google-api-core[grpc]<3.0.0dev,>=1.28.0->google-cloud-vision) (1.15.0)\n",
            "Collecting protobuf>=3.12.0\n",
            "  Downloading protobuf-3.19.4-cp37-cp37m-manylinux_2_17_x86_64.manylinux2014_x86_64.whl (1.1 MB)\n",
            "\u001b[K     |████████████████████████████████| 1.1 MB 49.7 MB/s \n",
            "\u001b[?25hRequirement already satisfied: pyasn1<0.5.0,>=0.4.6 in /usr/local/lib/python3.7/dist-packages (from pyasn1-modules>=0.2.1->google-auth<3.0dev,>=1.25.0->google-api-core[grpc]<3.0.0dev,>=1.28.0->google-cloud-vision) (0.4.8)\n",
            "Requirement already satisfied: certifi>=2017.4.17 in /usr/local/lib/python3.7/dist-packages (from requests<3.0.0dev,>=2.18.0->google-api-core[grpc]<3.0.0dev,>=1.28.0->google-cloud-vision) (2021.10.8)\n",
            "Requirement already satisfied: chardet<4,>=3.0.2 in /usr/local/lib/python3.7/dist-packages (from requests<3.0.0dev,>=2.18.0->google-api-core[grpc]<3.0.0dev,>=1.28.0->google-cloud-vision) (3.0.4)\n",
            "Requirement already satisfied: idna<3,>=2.5 in /usr/local/lib/python3.7/dist-packages (from requests<3.0.0dev,>=2.18.0->google-api-core[grpc]<3.0.0dev,>=1.28.0->google-cloud-vision) (2.10)\n",
            "Requirement already satisfied: urllib3!=1.25.0,!=1.25.1,<1.26,>=1.21.1 in /usr/local/lib/python3.7/dist-packages (from requests<3.0.0dev,>=2.18.0->google-api-core[grpc]<3.0.0dev,>=1.28.0->google-cloud-vision) (1.24.3)\n",
            "Installing collected packages: protobuf, grpcio-status, google-api-core, proto-plus, google-cloud-vision\n",
            "  Attempting uninstall: protobuf\n",
            "    Found existing installation: protobuf 3.17.3\n",
            "    Uninstalling protobuf-3.17.3:\n",
            "      Successfully uninstalled protobuf-3.17.3\n",
            "  Attempting uninstall: google-api-core\n",
            "    Found existing installation: google-api-core 1.26.3\n",
            "    Uninstalling google-api-core-1.26.3:\n",
            "      Successfully uninstalled google-api-core-1.26.3\n",
            "\u001b[31mERROR: pip's dependency resolver does not currently take into account all the packages that are installed. This behaviour is the source of the following dependency conflicts.\n",
            "google-cloud-translate 1.5.0 requires google-api-core[grpc]<2.0.0dev,>=1.6.0, but you have google-api-core 2.5.0 which is incompatible.\n",
            "google-cloud-language 1.2.0 requires google-api-core[grpc]<2.0.0dev,>=1.6.0, but you have google-api-core 2.5.0 which is incompatible.\n",
            "google-cloud-firestore 1.7.0 requires google-api-core[grpc]<2.0.0dev,>=1.14.0, but you have google-api-core 2.5.0 which is incompatible.\n",
            "google-cloud-datastore 1.8.0 requires google-api-core[grpc]<2.0.0dev,>=1.6.0, but you have google-api-core 2.5.0 which is incompatible.\n",
            "google-cloud-core 1.0.3 requires google-api-core<2.0.0dev,>=1.14.0, but you have google-api-core 2.5.0 which is incompatible.\n",
            "google-cloud-bigquery-storage 1.1.0 requires google-api-core[grpc]<2.0.0dev,>=1.14.0, but you have google-api-core 2.5.0 which is incompatible.\n",
            "firebase-admin 4.4.0 requires google-api-core[grpc]<2.0.0dev,>=1.14.0; platform_python_implementation != \"PyPy\", but you have google-api-core 2.5.0 which is incompatible.\u001b[0m\n",
            "Successfully installed google-api-core-2.5.0 google-cloud-vision-2.6.3 grpcio-status-1.43.0 proto-plus-1.19.9 protobuf-3.19.4\n"
          ]
        },
        {
          "output_type": "display_data",
          "data": {
            "application/vnd.colab-display-data+json": {
              "pip_warning": {
                "packages": [
                  "google"
                ]
              }
            }
          },
          "metadata": {}
        },
        {
          "output_type": "stream",
          "name": "stdout",
          "text": [
            ">>>Installing the tool OpenAI\n",
            "Collecting openai\n",
            "  Downloading openai-0.14.0.tar.gz (40 kB)\n",
            "\u001b[K     |████████████████████████████████| 40 kB 4.0 MB/s \n",
            "\u001b[?25hRequirement already satisfied: requests>=2.20 in /usr/local/lib/python3.7/dist-packages (from openai) (2.23.0)\n",
            "Requirement already satisfied: tqdm in /usr/local/lib/python3.7/dist-packages (from openai) (4.62.3)\n",
            "Requirement already satisfied: pandas>=1.2.3 in /usr/local/lib/python3.7/dist-packages (from openai) (1.3.5)\n",
            "Collecting pandas-stubs>=1.1.0.11\n",
            "  Downloading pandas_stubs-1.2.0.47-py3-none-any.whl (161 kB)\n",
            "\u001b[K     |████████████████████████████████| 161 kB 10.5 MB/s \n",
            "\u001b[?25hCollecting openpyxl>=3.0.7\n",
            "  Downloading openpyxl-3.0.9-py2.py3-none-any.whl (242 kB)\n",
            "\u001b[K     |████████████████████████████████| 242 kB 64.9 MB/s \n",
            "\u001b[?25hRequirement already satisfied: et-xmlfile in /usr/local/lib/python3.7/dist-packages (from openpyxl>=3.0.7->openai) (1.1.0)\n",
            "Requirement already satisfied: pytz>=2017.3 in /usr/local/lib/python3.7/dist-packages (from pandas>=1.2.3->openai) (2018.9)\n",
            "Requirement already satisfied: numpy>=1.17.3 in /usr/local/lib/python3.7/dist-packages (from pandas>=1.2.3->openai) (1.19.5)\n",
            "Requirement already satisfied: python-dateutil>=2.7.3 in /usr/local/lib/python3.7/dist-packages (from pandas>=1.2.3->openai) (2.8.2)\n",
            "Requirement already satisfied: typing-extensions>=3.7.4.3 in /usr/local/lib/python3.7/dist-packages (from pandas-stubs>=1.1.0.11->openai) (3.10.0.2)\n",
            "Requirement already satisfied: six>=1.5 in /usr/local/lib/python3.7/dist-packages (from python-dateutil>=2.7.3->pandas>=1.2.3->openai) (1.15.0)\n",
            "Requirement already satisfied: idna<3,>=2.5 in /usr/local/lib/python3.7/dist-packages (from requests>=2.20->openai) (2.10)\n",
            "Requirement already satisfied: certifi>=2017.4.17 in /usr/local/lib/python3.7/dist-packages (from requests>=2.20->openai) (2021.10.8)\n",
            "Requirement already satisfied: chardet<4,>=3.0.2 in /usr/local/lib/python3.7/dist-packages (from requests>=2.20->openai) (3.0.4)\n",
            "Requirement already satisfied: urllib3!=1.25.0,!=1.25.1,<1.26,>=1.21.1 in /usr/local/lib/python3.7/dist-packages (from requests>=2.20->openai) (1.24.3)\n",
            "Building wheels for collected packages: openai\n",
            "  Building wheel for openai (setup.py) ... \u001b[?25l\u001b[?25hdone\n",
            "  Created wheel for openai: filename=openai-0.14.0-py3-none-any.whl size=49824 sha256=55cde286b0d9b891de0e52e957647fde9fd3cd5486393d8d63707b465a07692e\n",
            "  Stored in directory: /root/.cache/pip/wheels/45/5f/9e/6035f88eb6fc313fd26ddb4d4b65bfb6fa02d7e5a124160fe9\n",
            "Successfully built openai\n",
            "Installing collected packages: pandas-stubs, openpyxl, openai\n",
            "  Attempting uninstall: openpyxl\n",
            "    Found existing installation: openpyxl 2.5.9\n",
            "    Uninstalling openpyxl-2.5.9:\n",
            "      Successfully uninstalled openpyxl-2.5.9\n",
            "Successfully installed openai-0.14.0 openpyxl-3.0.9 pandas-stubs-1.2.0.47\n"
          ]
        },
        {
          "output_type": "display_data",
          "data": {
            "application/vnd.colab-display-data+json": {
              "pip_warning": {
                "packages": [
                  "pandas"
                ]
              }
            }
          },
          "metadata": {}
        },
        {
          "output_type": "stream",
          "name": "stdout",
          "text": [
            ">>>Remember to restart the runtime\n"
          ]
        }
      ],
      "source": [
        "# Run to fetch and install tools\n",
        "print(\">>>Installing the tool Google Cloud Vision\")\n",
        "!pip install --upgrade google-cloud-vision\n",
        "print(\">>>Installing the tool OpenAI\")\n",
        "!pip install openai\n",
        "print(\">>>Remember to restart the runtime\")"
      ]
    },
    {
      "cell_type": "markdown",
      "source": [
        "### 2) ^^^ Remember to restart runtime, by clicking the button\n",
        "### 3) Import the tools"
      ],
      "metadata": {
        "id": "qv4bObKu6y-M"
      }
    },
    {
      "cell_type": "code",
      "source": [
        "# Import tools\n",
        "import os, io\n",
        "import json\n",
        "from google.cloud import vision_v1 as vision\n",
        "import openai\n",
        "import sys\n",
        "from google.cloud.vision_v1 import types\n",
        "import pandas as pd"
      ],
      "metadata": {
        "id": "beN6DKARNSUW"
      },
      "execution_count": 16,
      "outputs": []
    },
    {
      "cell_type": "markdown",
      "source": [
        "### 4) Add your API keys from Google Vision and OpenAI in the appropriate format, \"a how to\" and examples can be found below"
      ],
      "metadata": {
        "id": "MVvM9e8N7PgM"
      }
    },
    {
      "cell_type": "code",
      "source": [
        "#how to"
      ],
      "metadata": {
        "id": "zk_GYq8Z7pHa"
      },
      "execution_count": null,
      "outputs": []
    },
    {
      "cell_type": "markdown",
      "source": [
        "### 5) Make it into a nice format for the tools, by running the cell below"
      ],
      "metadata": {
        "id": "QjSTRSbq7rcc"
      }
    },
    {
      "cell_type": "code",
      "source": [
        "# Create key files from variables (created at service portal) for Google Vision API and OpenAI API\n",
        "from keys_variables import *  \n",
        "\n",
        "json_object = json.dumps(google_vision_api_key_dictionary, indent = 4)\n",
        "with open(\"/content/key_vision.json\", \"w\") as outfile:\n",
        "    outfile.write(json_object)\n",
        "\n",
        "with open('/content/key_gpt3.txt', 'w') as writefile:\n",
        "    writefile.write(openAI_api_key_string)"
      ],
      "metadata": {
        "id": "RLIKP621M1rm"
      },
      "execution_count": 17,
      "outputs": []
    },
    {
      "cell_type": "markdown",
      "source": [
        "### 6) Define useful functionality, by running the cell below"
      ],
      "metadata": {
        "id": "OMVzrt4i72DJ"
      }
    },
    {
      "cell_type": "code",
      "source": [
        "###Functionalities###\n",
        "\n",
        "#Function for performing OCR on an image\n",
        "def detect_text(img):\n",
        "    # Open image\n",
        "    with open(img, 'rb') as image_file:\n",
        "        content = image_file.read()\n",
        "    # Initialize a Google Cloud Vision client\n",
        "    client = vision.ImageAnnotatorClient()\n",
        "    #Define input and perform ocr to get the response\n",
        "    image = vision.types.Image(content=content)\n",
        "    response = client.document_text_detection(\n",
        "      image=image,\n",
        "      image_context = {\"language_hints\": ['en']} #english text\n",
        "      )\n",
        "    return response\n",
        "\n",
        "#Help function to write and read text file\n",
        "def write_and_read_text_file(path_file_and_name, response):\n",
        "  file = io.open(path_file_and_name, 'w', encoding='utf-8')\n",
        "  file.write(response.full_text_annotation.text)\n",
        "  file.close()\n",
        "  text_file = open(path_file_and_name, \"r\", encoding='utf-8')\n",
        "  text = text_file.read()\n",
        "  return text\n",
        "\n",
        "#Function for performing NLP Summarizations on a text\n",
        "def get_summary(text):\n",
        "  response = openai.Completion.create(\n",
        "    engine = \"davinci-instruct-beta\",\n",
        "    prompt = text,\n",
        "    temperature = 0.3,\n",
        "    max_tokens = 400,\n",
        "    top_p = 1.0,\n",
        "    frequency_penalty = 0.0,\n",
        "    presence_penalty = 0.0,\n",
        "    stop=[\"###\"]\n",
        "    )\n",
        "  return response"
      ],
      "metadata": {
        "id": "FEhuGXFvp087"
      },
      "execution_count": 18,
      "outputs": []
    },
    {
      "cell_type": "markdown",
      "source": [
        "### 7) Import the text image you would like to summarize, by clicking the ![image.png](data:image/png;base64,iVBORw0KGgoAAAANSUhEUgAAAC8AAAAvCAYAAABzJ5OsAAAAAXNSR0IArs4c6QAAAARnQU1BAACxjwv8YQUAAAAJcEhZcwAADsMAAA7DAcdvqGQAAAE2SURBVGhD7ZnhDYJADEbvnIEh2IEdYAfYgR1gB9gBZmAIwgwwg/o14g8DEs+WhqQvIVWiyevR3tXo70/cRbm94iUxeS1MXguT18LktTB5LUxei+CpchxH1/c9xW9kWUaXBMEr37btoTjouo4uCYJXPs9zikhij/UzQOIJnFbzEk/g1IblTuD03YYzAZWtEvIcP51FG3aL9XtN0zjvPb0ORWXluRCRH4aBtTH3YJeHOEqJszH3YJVfxVekE2CT/xQHURSJJsAmvywLxbIsKYIkSSiBeZ5fd3hhk8fcUte1i+P4vQXiHrbGoijoPTesNY9V/gTJSMEqfzYi8jg9fz15QwgeD9CYoY2I8qqqSm88SNN0s8aPQA+gif8VB/bPiBYmr4XJa2HyWpi8Fn6apsuesDYe6ODcA/mch5kwF5KJAAAAAElFTkSuQmCC)button in the left sidebar and change the filename below accordingly\n"
      ],
      "metadata": {
        "id": "09_FHC1V8Bwx"
      }
    },
    {
      "cell_type": "code",
      "source": [
        "# Define image file name and path\n",
        "FILE_NAME = 'Sample-handwritten-text-from-CVL-Database.png'\n",
        "FOLDER_PATH = r'/content/'"
      ],
      "metadata": {
        "id": "7LRVypeu3wJH"
      },
      "execution_count": null,
      "outputs": []
    },
    {
      "cell_type": "markdown",
      "source": [
        "### 8) Run OCR, by running the cell below"
      ],
      "metadata": {
        "id": "pc_Jegzd8rh7"
      }
    },
    {
      "cell_type": "code",
      "source": [
        "###Running OCR###\n",
        "\n",
        "# Provide the API key with the Google Cloud Vision API\n",
        "os.environ['GOOGLE_APPLICATION_CREDENTIALS'] = r'key_vision.json'\n",
        "\n",
        "#Detect text in image file, function exists in demo_functions.py\n",
        "response = detect_text(os.path.join(FOLDER_PATH, FILE_NAME))\n",
        "\n",
        "#Specify text file file location and write text file, requested format by GTP-3\n",
        "path_file_and_name = 'detected_text.txt'\n",
        "text = write_and_read_text_file(path_file_and_name, response)"
      ],
      "metadata": {
        "id": "j-Uv0LkVZdKS"
      },
      "execution_count": 23,
      "outputs": []
    },
    {
      "cell_type": "markdown",
      "source": [
        "### 9) Run Summarization with GPT-3, by running the cell below"
      ],
      "metadata": {
        "id": "fB8lwaCa8yX5"
      }
    },
    {
      "cell_type": "code",
      "source": [
        "###Running NLP Summarization###\n",
        "\n",
        "#Access the OpenAI API-key\n",
        "key = open(\"key_gpt3.txt\", \"r\")\n",
        "openai.api_key = key.read()\n",
        "\n",
        "#Run the text that is about to be summarized\n",
        "response = get_summary(text)\n"
      ],
      "metadata": {
        "id": "gOLyNjVHfp3s"
      },
      "execution_count": 24,
      "outputs": []
    },
    {
      "cell_type": "markdown",
      "source": [
        "### 10) Print the result, by running the cell below"
      ],
      "metadata": {
        "id": "62V_Q3k086zx"
      }
    },
    {
      "cell_type": "code",
      "source": [
        "print(\"Original text:\")\n",
        "print(text)\n",
        "print(\"\")\n",
        "print(\"Summarized text:\")\n",
        "print(response.choices[0][\"text\"])"
      ],
      "metadata": {
        "colab": {
          "base_uri": "https://localhost:8080/"
        },
        "id": "yFRFNGSFh9zx",
        "outputId": "cec8249c-05ff-433a-f5dd-ee7eddb6808d"
      },
      "execution_count": 27,
      "outputs": [
        {
          "output_type": "stream",
          "name": "stdout",
          "text": [
            "Original text:\n",
            "Imagine a vast sheep of paper on which araight\n",
            "Lines, Iriangler, squares, Pentagons, Hexagons,\n",
            "and other figures, instead of remaining fired\n",
            "their placer, move\n",
            "freely about, on on in the sunfors,\n",
            "but without the power of riving above or sinking\n",
            "below it, very much like shadows only hard and\n",
            "-\n",
            "with luminious edges and will then have a pretty\n",
            "correct notion of my country and countrymen. Alas, a\n",
            "few years ago, I should have said my universe: bat\n",
            "\"\n",
            "now my minde has been opened to higher views of\n",
            "Mhing\n",
            "you\n",
            "3\n",
            "\n",
            "\n",
            "Summarized text:\n",
            "\n",
            "The paper sheep is a metaphor for the universe.\n",
            "\n",
            "The paper sheep is a metaphor for the universe.\n"
          ]
        }
      ]
    },
    {
      "cell_type": "markdown",
      "source": [
        "### 11) Ta-Da!\n",
        "\n",
        "This is made for just one file, but what if you would modify this code to go through a while folder of images...?"
      ],
      "metadata": {
        "id": "M3nlff_U9BmK"
      }
    }
  ]
}